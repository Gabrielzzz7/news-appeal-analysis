{
 "cells": [
  {
   "cell_type": "code",
   "execution_count": 16,
   "id": "b3286ade",
   "metadata": {},
   "outputs": [],
   "source": [
    "import pandas as pd\n",
    "import os\n"
   ]
  },
  {
   "cell_type": "code",
   "execution_count": 17,
   "id": "e58edc8a",
   "metadata": {},
   "outputs": [],
   "source": [
    "arquivos = [f for f in os.listdir('original_datasets') if f.endswith('.csv')]\n"
   ]
  },
  {
   "cell_type": "code",
   "execution_count": 18,
   "id": "8942d52f",
   "metadata": {},
   "outputs": [],
   "source": [
    "def extrair_tag(nome_arquivo):\n",
    "    \"\"\"\n",
    "    Extrai a tag do nome do arquivo.\n",
    "    Exemplo: '2023-10-01_12-00-00.csv' -> '2023-10-01'\n",
    "    \"\"\"\n",
    "    base = nome_arquivo.replace('.csv', '')\n",
    "    partes = base.split('_')\n",
    "    if len(partes) >= 2:\n",
    "        return partes[0], partes[1]\n",
    "    else:\n",
    "        return 'unknown', 'unknown'"
   ]
  },
  {
   "cell_type": "code",
   "execution_count": null,
   "id": "16217819",
   "metadata": {},
   "outputs": [
    {
     "name": "stdout",
     "output_type": "stream",
     "text": [
      "Lendo arquivo: original_datasets\\gossipcop_fake.csv\n",
      "Lendo arquivo: original_datasets\\gossipcop_real.csv\n",
      "Lendo arquivo: original_datasets\\politifact_fake.csv\n",
      "Lendo arquivo: original_datasets\\politifact_real.csv\n"
     ]
    }
   ],
   "source": [
    "lista_df = []\n",
    "\n",
    "pasta = \"original_datasets\"\n",
    "\n",
    "for arquivo in arquivos:\n",
    "    print(f\"Lendo arquivo: {arquivo}\")\n",
    "    tag, label = extrair_tag(arquivo)\n",
    "    df = pd.read_csv(arquivo, sep=',')\n",
    "    df['tag'] = tag\n",
    "    df['label'] = label\n",
    "    lista_df.append(df)\n",
    "    \n",
    "df_final = pd.concat(lista_df, ignore_index=True)"
   ]
  },
  {
   "cell_type": "code",
   "execution_count": 20,
   "id": "4f4eea7f",
   "metadata": {},
   "outputs": [
    {
     "ename": "NameError",
     "evalue": "name 'df_final' is not defined",
     "output_type": "error",
     "traceback": [
      "\u001b[1;31m---------------------------------------------------------------------------\u001b[0m",
      "\u001b[1;31mNameError\u001b[0m                                 Traceback (most recent call last)",
      "Cell \u001b[1;32mIn[20], line 1\u001b[0m\n\u001b[1;32m----> 1\u001b[0m \u001b[43mdf_final\u001b[49m\u001b[38;5;241m.\u001b[39mto_csv(\u001b[38;5;124m'\u001b[39m\u001b[38;5;124mdados_combinados.csv\u001b[39m\u001b[38;5;124m'\u001b[39m, index\u001b[38;5;241m=\u001b[39m\u001b[38;5;28;01mFalse\u001b[39;00m, sep\u001b[38;5;241m=\u001b[39m\u001b[38;5;124m'\u001b[39m\u001b[38;5;124m,\u001b[39m\u001b[38;5;124m'\u001b[39m)\n",
      "\u001b[1;31mNameError\u001b[0m: name 'df_final' is not defined"
     ]
    }
   ],
   "source": [
    "df_final.to_csv('dados_combinados.csv', index=False, sep=',')"
   ]
  },
  {
   "cell_type": "code",
   "execution_count": 23,
   "id": "b001c028",
   "metadata": {},
   "outputs": [
    {
     "data": {
      "text/plain": [
       "Index(['id', 'news_url', 'title', 'tweet_ids', 'tag', 'label'], dtype='object')"
      ]
     },
     "execution_count": 23,
     "metadata": {},
     "output_type": "execute_result"
    }
   ],
   "source": [
    "df.columns"
   ]
  },
  {
   "cell_type": "code",
   "execution_count": null,
   "id": "bbcda788",
   "metadata": {},
   "outputs": [
    {
     "ename": "NameError",
     "evalue": "name 'df_final' is not defined",
     "output_type": "error",
     "traceback": [
      "\u001b[1;31m---------------------------------------------------------------------------\u001b[0m",
      "\u001b[1;31mNameError\u001b[0m                                 Traceback (most recent call last)",
      "Cell \u001b[1;32mIn[1], line 1\u001b[0m\n\u001b[1;32m----> 1\u001b[0m df_embaralhado \u001b[38;5;241m=\u001b[39m \u001b[43mdf_final\u001b[49m\u001b[38;5;241m.\u001b[39msample(frac\u001b[38;5;241m=\u001b[39m\u001b[38;5;241m1\u001b[39m, random_state\u001b[38;5;241m=\u001b[39m\u001b[38;5;241m42\u001b[39m)\u001b[38;5;241m.\u001b[39mreset_index(drop\u001b[38;5;241m=\u001b[39m\u001b[38;5;28;01mTrue\u001b[39;00m)\n\u001b[0;32m      3\u001b[0m n \u001b[38;5;241m=\u001b[39m \u001b[38;5;241m125\u001b[39m\n\u001b[0;32m      5\u001b[0m amostra_1 \u001b[38;5;241m=\u001b[39m df_embaralhado\u001b[38;5;241m.\u001b[39miloc[\u001b[38;5;241m0\u001b[39m:n]\u001b[38;5;241m.\u001b[39mcopy()\n",
      "\u001b[1;31mNameError\u001b[0m: name 'df_final' is not defined"
     ]
    }
   ],
   "source": [
    "df_embaralhado = df_final.sample(frac=1, random_state=42).reset_index(drop=True)\n",
    "\n",
    "n = 125\n",
    "\n",
    "amostra_1 = df_embaralhado.iloc[0:n].copy()\n",
    "amostra_2 = df_embaralhado.iloc[n:2*n].copy()\n",
    "amostra_3 = df_embaralhado.iloc[2*n:3*n].copy()\n",
    "amostra_4 = df_embaralhado.iloc[3*n:4*n].copy()\n",
    "\n",
    "for i, amostra in enumerate([amostra_1, amostra_2, amostra_3, amostra_4], start=1):\n",
    "    amostra['apelativa'] = ''\n",
    "    amostra.to_csv(f'amostra_{i}.csv', index=False, sep=',')\n",
    "    print(f\"Amostra {i} salva com {len(amostra)} registros.\")"
   ]
  }
 ],
 "metadata": {
  "kernelspec": {
   "display_name": "Python 3",
   "language": "python",
   "name": "python3"
  },
  "language_info": {
   "codemirror_mode": {
    "name": "ipython",
    "version": 3
   },
   "file_extension": ".py",
   "mimetype": "text/x-python",
   "name": "python",
   "nbconvert_exporter": "python",
   "pygments_lexer": "ipython3",
   "version": "3.12.0"
  }
 },
 "nbformat": 4,
 "nbformat_minor": 5
}
