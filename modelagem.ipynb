{
 "cells": [
  {
   "cell_type": "code",
   "execution_count": 18,
   "id": "b3286ade",
   "metadata": {},
   "outputs": [],
   "source": [
    "import pandas as pd\n",
    "import os\n"
   ]
  },
  {
   "cell_type": "code",
   "execution_count": 19,
   "id": "e58edc8a",
   "metadata": {},
   "outputs": [],
   "source": [
    "arquivos = [f for f in os.listdir('.') if f.endswith('.csv')]"
   ]
  },
  {
   "cell_type": "code",
   "execution_count": 20,
   "id": "8942d52f",
   "metadata": {},
   "outputs": [],
   "source": [
    "def extrair_tag(nome_arquivo):\n",
    "    \"\"\"\n",
    "    Extrai a tag do nome do arquivo.\n",
    "    Exemplo: '2023-10-01_12-00-00.csv' -> '2023-10-01'\n",
    "    \"\"\"\n",
    "    base = nome_arquivo.replace('.csv', '')\n",
    "    partes = base.split('_')\n",
    "    if len(partes) >= 2:\n",
    "        return partes[0], partes[1]\n",
    "    else:\n",
    "        return 'unknown', 'unknown'"
   ]
  },
  {
   "cell_type": "code",
   "execution_count": 21,
   "id": "16217819",
   "metadata": {},
   "outputs": [
    {
     "name": "stdout",
     "output_type": "stream",
     "text": [
      "Lendo arquivo: dados_combinados.csv\n",
      "Lendo arquivo: gossipcop_fake.csv\n",
      "Lendo arquivo: gossipcop_real.csv\n",
      "Lendo arquivo: politifact_fake.csv\n",
      "Lendo arquivo: politifact_real.csv\n"
     ]
    }
   ],
   "source": [
    "lista_df = []\n",
    "\n",
    "for arquivo in arquivos:\n",
    "    print(f\"Lendo arquivo: {arquivo}\")\n",
    "    tag, label = extrair_tag(arquivo)\n",
    "    df = pd.read_csv(arquivo, sep=',')\n",
    "    df['tag'] = tag\n",
    "    df['label'] = label\n",
    "    lista_df.append(df)\n",
    "    \n",
    "df_final = pd.concat(lista_df, ignore_index=True)"
   ]
  },
  {
   "cell_type": "code",
   "execution_count": 22,
   "id": "4f4eea7f",
   "metadata": {},
   "outputs": [],
   "source": [
    "df_final.to_csv('dados_combinados.csv', index=False, sep=',')"
   ]
  },
  {
   "cell_type": "code",
   "execution_count": 23,
   "id": "b001c028",
   "metadata": {},
   "outputs": [
    {
     "data": {
      "text/plain": [
       "Index(['id', 'news_url', 'title', 'tweet_ids', 'tag', 'label'], dtype='object')"
      ]
     },
     "execution_count": 23,
     "metadata": {},
     "output_type": "execute_result"
    }
   ],
   "source": [
    "df.columns"
   ]
  },
  {
   "cell_type": "code",
   "execution_count": 24,
   "id": "bbcda788",
   "metadata": {},
   "outputs": [
    {
     "name": "stdout",
     "output_type": "stream",
     "text": [
      "Amostra 1 salva com 125 registros.\n",
      "Amostra 2 salva com 125 registros.\n",
      "Amostra 3 salva com 125 registros.\n",
      "Amostra 4 salva com 125 registros.\n"
     ]
    }
   ],
   "source": [
    "df_embaralhado = df_final.sample(frac=1, random_state=42).reset_index(drop=True)\n",
    "\n",
    "n = 125\n",
    "\n",
    "amostra_1 = df_embaralhado.iloc[0:n].copy()\n",
    "amostra_2 = df_embaralhado.iloc[n:2*n].copy()\n",
    "amostra_3 = df_embaralhado.iloc[2*n:3*n].copy()\n",
    "amostra_4 = df_embaralhado.iloc[3*n:4*n].copy()\n",
    "\n",
    "for i, amostra in enumerate([amostra_1, amostra_2, amostra_3, amostra_4], start=1):\n",
    "    amostra['apelativa'] = ''\n",
    "    amostra.to_csv(f'amostra_{i}.csv', index=False, sep=',')\n",
    "    print(f\"Amostra {i} salva com {len(amostra)} registros.\")"
   ]
  }
 ],
 "metadata": {
  "kernelspec": {
   "display_name": "Python 3",
   "language": "python",
   "name": "python3"
  },
  "language_info": {
   "codemirror_mode": {
    "name": "ipython",
    "version": 3
   },
   "file_extension": ".py",
   "mimetype": "text/x-python",
   "name": "python",
   "nbconvert_exporter": "python",
   "pygments_lexer": "ipython3",
   "version": "3.12.0"
  }
 },
 "nbformat": 4,
 "nbformat_minor": 5
}
